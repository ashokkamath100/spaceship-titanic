{
 "cells": [
  {
   "cell_type": "markdown",
   "metadata": {
    "id": "cRiw-N64LvL7"
   },
   "source": [
    "# 1. Problem and Data Description\n"
   ]
  },
  {
   "cell_type": "code",
   "execution_count": null,
   "metadata": {
    "id": "E7yPDTnzMjVA"
   },
   "outputs": [],
   "source": [
    "import numpy as np\n",
    "import pandas as pd\n",
    "import matplotlib.pyplot as plt\n",
    "import seaborn as sns"
   ]
  },
  {
   "cell_type": "markdown",
   "metadata": {
    "id": "ctf1RbbyMls2"
   },
   "source": [
    "Spaceship Titanic Section"
   ]
  },
  {
   "cell_type": "code",
   "execution_count": null,
   "metadata": {
    "id": "J2piqi43Lw4b"
   },
   "outputs": [],
   "source": [
    "# Reading \n",
    "#from google.colab import drive\n",
    "#drive.mount('/content/drive')\n",
    "ss_train = pd.read_csv('/content/ss_train.csv') ## this might be on the directory\n",
    "ss_test = pd.read_csv('/content/ss_test.csv')\n",
    "# Shape and preview\n",
    "#print('Train set shape:', ss_train.shape)\n",
    "#print('Test set shape:', ss_train.shape)\n",
    "#ss_train.head()\n",
    "#! ls 'content/drive/My Drive/ss_train.csv'"
   ]
  },
  {
   "cell_type": "markdown",
   "metadata": {
    "id": "PTV-xAoRMBF4"
   },
   "source": [
    "#2. Data Preprocessing & Exploratory  Data Analysis\n"
   ]
  },
  {
   "cell_type": "markdown",
   "metadata": {
    "id": "BLUqQzpQTraX"
   },
   "source": [
    "# Spaceship Titanic Section"
   ]
  },
  {
   "cell_type": "markdown",
   "metadata": {
    "id": "3cNEaLaPTT5F"
   },
   "source": [
    "##2.1 Handing missing values\n"
   ]
  },
  {
   "cell_type": "code",
   "execution_count": null,
   "metadata": {
    "colab": {
     "base_uri": "https://localhost:8080/",
     "height": 0
    },
    "id": "ZkXYXpkAMCNs",
    "outputId": "629fce6b-84c1-486f-ac18-aa72f0a1536e"
   },
   "outputs": [],
   "source": [
    "## missing value check\n",
    "print('Missing values from train set:')\n",
    "print(ss_train.isna().sum())\n",
    "print('Missign values from test set:')\n",
    "print(ss_test.isna().sum())\n"
   ]
  },
  {
   "cell_type": "code",
   "execution_count": null,
   "metadata": {
    "colab": {
     "base_uri": "https://localhost:8080/",
     "height": 143
    },
    "id": "z8O54Of4-m-n",
    "outputId": "65640d40-3f6f-4f90-c86f-036e5fdbb4ca"
   },
   "outputs": [],
   "source": [
    "ss_test.head(3)"
   ]
  },
  {
   "cell_type": "code",
   "execution_count": null,
   "metadata": {
    "colab": {
     "base_uri": "https://localhost:8080/",
     "height": 239
    },
    "id": "3_Nz9TNL5XqR",
    "outputId": "152b78f9-aaec-4702-dc0b-6fdd869e93de"
   },
   "outputs": [],
   "source": [
    "ss_train.head(3)"
   ]
  },
  {
   "cell_type": "code",
   "execution_count": null,
   "metadata": {
    "colab": {
     "base_uri": "https://localhost:8080/",
     "height": 300
    },
    "id": "JVPL360bVHoG",
    "outputId": "da706223-3579-4c0a-d33f-fc1bf3f7b4bc"
   },
   "outputs": [],
   "source": [
    "##spaceship trainset discription\n",
    "ss_train.describe()\n"
   ]
  },
  {
   "cell_type": "code",
   "execution_count": null,
   "metadata": {
    "colab": {
     "base_uri": "https://localhost:8080/",
     "height": 300
    },
    "id": "zg_LiB5XHzPw",
    "outputId": "0c7336ff-65f1-4cbc-df8e-bff8be055c3d"
   },
   "outputs": [],
   "source": [
    "## spaceship test set discription\n",
    "ss_test.describe()"
   ]
  },
  {
   "cell_type": "markdown",
   "metadata": {
    "id": "ZRKLr2Po4oRl"
   },
   "source": [
    "Fromt this we know taht there will be 6 numerical columns from the train and test datasets. "
   ]
  },
  {
   "cell_type": "markdown",
   "metadata": {
    "id": "EEvXhgP296Rw"
   },
   "source": [
    "For the total sum graph transported or not"
   ]
  },
  {
   "cell_type": "code",
   "execution_count": null,
   "metadata": {
    "colab": {
     "base_uri": "https://localhost:8080/",
     "height": 279
    },
    "id": "Pgj_G3h5-BJM",
    "outputId": "9cee8119-476d-40e0-98a6-addb6ccd26a5"
   },
   "outputs": [],
   "source": [
    "## use countplot to see in bar spot\n",
    "total=float(len(ss_train['Transported']))\n",
    "t=sns.countplot(data=ss_train, x='Transported')\n",
    "for p in t.patches:\n",
    "    percentage ='{:.1f}%'.format(100*p.get_height()/total)\n",
    "    x = p.get_x()\n",
    "    y = p.get_height()\n",
    "    t.annotate(percentage, (x,y))\n",
    "plt.show()"
   ]
  },
  {
   "cell_type": "markdown",
   "metadata": {
    "id": "R5x9QqVG0obC"
   },
   "source": [
    "Graphs with the relationship between transported and other cateogories"
   ]
  },
  {
   "cell_type": "code",
   "execution_count": null,
   "metadata": {
    "colab": {
     "base_uri": "https://localhost:8080/",
     "height": 714
    },
    "id": "NsG4_ic3PaT_",
    "outputId": "181bb758-2265-4c8c-de82-ed314f7d2e87"
   },
   "outputs": [],
   "source": [
    "## barplot\n",
    "plt.figure(figsize=(16,12))\n",
    "\n",
    "plt.subplot(2,2,1)\n",
    "totalpl =float(len(ss_train['HomePlanet']))\n",
    "pl= sns.countplot(data=ss_train, x='HomePlanet', hue='Transported', palette = 'magma')\n",
    "for p in pl.patches:\n",
    "    percentage ='{:.1f}%'.format(100*p.get_height()/totalpl)\n",
    "    x = p.get_x()\n",
    "    y = p.get_height()\n",
    "    pl.annotate(percentage, (x,y))\n",
    "plt.subplot(2,2,2)\n",
    "totald = float(len(ss_train['Destination']))\n",
    "d= sns.countplot(data=ss_train, x='Destination', hue='Transported', palette = 'inferno')\n",
    "for p in d.patches:\n",
    "    percentage ='{:.1f}%'.format(100*p.get_height()/totald)\n",
    "    x = p.get_x()\n",
    "    y = p.get_height()\n",
    "    d.annotate(percentage, (x,y))\n",
    "\n",
    "plt.subplot(2,2,3)\n",
    "totalc =float(len(ss_train['CryoSleep']))\n",
    "c= sns.countplot(data=ss_train, x='CryoSleep', hue='Transported', palette = 'viridis')\n",
    "for p in c.patches:\n",
    "    percentage ='{:.1f}%'.format(100*p.get_height()/totalc)\n",
    "    x = p.get_x()\n",
    "    y = p.get_height()\n",
    "    c.annotate(percentage, (x,y))\n",
    "\n",
    "plt.subplot(2,2,4)\n",
    "totalv =float(len(ss_train['VIP']))\n",
    "v = sns.countplot(data=ss_train, x='VIP', hue='Transported', palette = 'hot')\n",
    "for p in v.patches:\n",
    "    percentage ='{:.1f}%'.format(100*p.get_height()/totalv)\n",
    "    x = p.get_x()\n",
    "    y = p.get_height()\n",
    "    v.annotate(percentage,(x,y))\n",
    "plt.show()\n"
   ]
  },
  {
   "cell_type": "code",
   "execution_count": null,
   "metadata": {
    "colab": {
     "base_uri": "https://localhost:8080/",
     "height": 1056
    },
    "id": "lgdzNiO_Tq0w",
    "outputId": "8f1302e0-32c3-4a16-fb56-5c95d5f5c84c"
   },
   "outputs": [],
   "source": [
    "numeric_feats=['RoomService', 'FoodCourt', 'ShoppingMall', 'Spa', 'VRDeck']\n",
    "\n",
    "# Plot expenditure features\n",
    "fig=plt.figure(figsize=(10,20))\n",
    "for i, var_name in enumerate(numeric_feats):\n",
    "    # Left plot\n",
    "    ax=fig.add_subplot(5,2,2*i+1)\n",
    "    sns.histplot(data=ss_train, x=var_name, axes=ax, bins=30, kde=False, hue='Transported')\n",
    "    ax.set_title(var_name)\n",
    "    \n",
    "    # Right plot (truncated)\n",
    "    ax=fig.add_subplot(5,2,2*i+2)\n",
    "    sns.histplot(data=ss_train, x=var_name, axes=ax, bins=30, kde=True, hue='Transported')\n",
    "    plt.ylim([0,100])\n",
    "    ax.set_title(var_name)\n",
    "fig.tight_layout()  # Improves appearance a bit\n",
    "plt.show()"
   ]
  },
  {
   "cell_type": "markdown",
   "metadata": {
    "id": "V50SbCtovZpt"
   },
   "source": [
    "##Filling in the Missing Values"
   ]
  },
  {
   "cell_type": "code",
   "execution_count": null,
   "metadata": {
    "colab": {
     "base_uri": "https://localhost:8080/",
     "height": 518
    },
    "id": "H35L4WSfWj06",
    "outputId": "ac0657d7-c00f-440c-e4e4-228282118bf9"
   },
   "outputs": [],
   "source": [
    "## historgram for \n",
    "plt.figure(figsize=(16,8))\n",
    "plt.subplot(2,2,1)\n",
    "plt.hist(ss_train.loc[:,'RoomService'], bins = 30, color = 'yellow')\n",
    "\n",
    "plt.xlabel(\"Room Service Bill Amount\")\n",
    "plt.subplot(2,2,2)\n",
    "plt.hist(ss_train.loc[:,'FoodCourt'], bins = 30, color = 'red')\n",
    "plt.xlabel(\"Food Court Bill Amount\")\n",
    "plt.subplot(2,2,3)\n",
    "plt.hist(ss_train.loc[:,'ShoppingMall'], bins = 30, color = 'pink')\n",
    "plt.xlabel(\"Shopping Mall Bill Amount\")\n",
    "plt.subplot(2,2,4)\n",
    "plt.hist(ss_train.loc[:,'Spa'], bins = 30, color = 'purple')\n",
    "plt.xlabel(\"Spa Bill Amount\")"
   ]
  },
  {
   "cell_type": "code",
   "execution_count": null,
   "metadata": {
    "colab": {
     "base_uri": "https://localhost:8080/",
     "height": 298
    },
    "id": "7nq7E_UcatQq",
    "outputId": "18adbd20-dd93-4e4d-9333-4311d64427ef"
   },
   "outputs": [],
   "source": [
    "plt.hist(ss_train.loc[:,'VRDeck'], bins = 30, color = 'green')\n",
    "plt.xlabel(xlabel = 'Transported', y = \"VR Deck Bill Amount\")"
   ]
  },
  {
   "cell_type": "markdown",
   "metadata": {
    "id": "kVncEFSVWI9I"
   },
   "source": [
    "Since age is evenly distributed, which is indicated by the 50 percentile (27) being close to the mean (27), it makes sense to replace missing values in the Age column with the mean value of 27. <br>\n",
    "For the room service, shopping mall, spa however, the data is not evenly distributed since the summary statistics show that the median value is 0 and the histogram shows the vast majority of values are near 0. Therefore, it makes sense to make the missing values 0 for this column, which happens to be the mode too. <br> "
   ]
  },
  {
   "cell_type": "code",
   "execution_count": null,
   "metadata": {
    "id": "ZQPVUv8TdihS"
   },
   "outputs": [],
   "source": [
    "for i in ss_train.columns:\n",
    "    if ss_train[i].isnull().sum().any():\n",
    "        if i == 'Age':\n",
    "            ss_train[i] = ss_train[i].fillna(ss_train[i].mean())\n",
    "            ss_test[i] = ss_test[i].fillna(ss_test[i].mean())\n",
    "        else:\n",
    "            ss_train[i] = ss_train[i].fillna(ss_train[i].mode()[0])\n",
    "            ss_test[i] = ss_test[i].fillna(ss_test[i].mode()[0])"
   ]
  },
  {
   "cell_type": "code",
   "execution_count": null,
   "metadata": {
    "colab": {
     "base_uri": "https://localhost:8080/",
     "height": 360
    },
    "id": "ZKkVG6tOvLP-",
    "outputId": "0e878848-3937-4626-fbb0-706ace1ced70"
   },
   "outputs": [],
   "source": [
    "## create the barplot with the cateroical column\n",
    "plt.figure(figsize = (16,12))\n",
    "plt.subplot(2,3,1)\n",
    "## with checking  difference between with/ without filling missing values.\n",
    "## with missing value plot\n",
    "## plot with HomePlanet to see the relation with Homeplanet and Transported\n",
    "totalh =float(len(ss_train['HomePlanet']))\n",
    "h = sns.countplot(x = \"HomePlanet\" , data = ss_train) #fill in missing values of homeplanet with earth since it is the most common\n",
    "for p in h.patches:\n",
    "    percentage ='{:.1f}%'.format(100*p.get_height()/totalh)\n",
    "    x = p.get_x()\n",
    "    y = p.get_height()\n",
    "    h.annotate(percentage, (x,y))\n",
    "\n",
    "plt.subplot(2,3,2)\n",
    "## plot with Destination to see the relation with Destination and Transported\n",
    "totald =float(len(ss_train['Destination']))\n",
    "d = sns.countplot(x = \"Destination\", data = ss_train) #fill in missing values of destination with TRAPPIST-1e\n",
    "for p in d.patches:\n",
    "    percentage ='{:.1f}%'.format(100*p.get_height()/totald)\n",
    "    x = p.get_x()\n",
    "    y = p.get_height()\n",
    "    d.annotate(percentage,(x,y))\n",
    "\n",
    "plt.show()\n"
   ]
  },
  {
   "cell_type": "code",
   "execution_count": null,
   "metadata": {
    "colab": {
     "base_uri": "https://localhost:8080/",
     "height": 360
    },
    "id": "1MhxJU9JyJv2",
    "outputId": "c8020445-1292-4a6a-ff20-775b1139fc70"
   },
   "outputs": [],
   "source": [
    "ss_train.loc[:,'HomePlanet'] = ss_train.loc[:, 'HomePlanet'].fillna(\"Earth\")\n",
    "ss_train.loc[:, 'Destination'] = ss_train.loc[:, 'Destination'].fillna(\"TRAPPIST-1e\")\n",
    "\n",
    "##for checking the function worked in proper.\n",
    "##ss_train.isna().sum()\n",
    "## barplot after we coved with the missing values\n",
    "plt.figure(figsize = (16,12))\n",
    "plt.subplot(2,3,1)\n",
    "totalh =float(len(ss_train['HomePlanet']))\n",
    "h = sns.countplot(x = \"HomePlanet\" , data = ss_train) #fill in missing values of homeplanet with earth since it is the most common\n",
    "for p in h.patches:\n",
    "    percentage ='{:.1f}%'.format(100*p.get_height()/totalh)\n",
    "    x = p.get_x()\n",
    "    y = p.get_height()\n",
    "    h.annotate(percentage, (x,y))\n",
    "\n",
    "plt.subplot(2,3,2)\n",
    "totald =float(len(ss_train['Destination']))\n",
    "d = sns.countplot(x = \"Destination\", data = ss_train) #fill in missing values of destination with TRAPPIST-1e\n",
    "for p in d.patches:\n",
    "    percentage ='{:.1f}%'.format(100*p.get_height()/totald)\n",
    "    x = p.get_x()\n",
    "    y = p.get_height()\n",
    "    d.annotate(percentage,(x,y))\n",
    "\n",
    "plt.show()\n",
    "\n"
   ]
  },
  {
   "cell_type": "code",
   "execution_count": null,
   "metadata": {
    "colab": {
     "base_uri": "https://localhost:8080/",
     "height": 716
    },
    "id": "JwebDPmAluFO",
    "outputId": "68cac3ed-3f42-4a7f-8503-d82184f30250"
   },
   "outputs": [],
   "source": [
    "# ## for ages  \n",
    "# figure size \n",
    "plt.figure(figsize = (16,12))\n",
    "## To find the distribution of the Age \n",
    "plt.subplot(3,1,1)\n",
    "sns.histplot(data=ss_train, x= 'Age')\n",
    "plt.subplot(3,1,2)\n",
    "## to fine the range of the Age \n",
    "sns.boxplot(data=ss_train, x='Age', palette = [\"#fc9272\", \"#fee0d2\"])\n",
    "plt.subplot(3,1,3)\n",
    "# For the AgeS reformatt in the 0~10, 11~20 ....\n",
    "ss_traina = ss_train.copy()\n",
    "ss_traina['Age_by_decade'] = pd.cut(x=ss_traina['Age'], bins=[9,19,29,39,49,59,69,79,89,99], labels=['0s','10s','20s','30s','40s','50s','60s','70s', '80s'], right = True)\n",
    "# sns.countplot(data = ss_train, x = ss_train['Age_by_decade'], hue='Transported')\n",
    "## covering all the range of \n",
    "totala =float(len(ss_traina['Age_by_decade']))\n",
    "a = sns.countplot(data=ss_traina, x='Age_by_decade', hue='Transported', palette = 'hot')\n",
    "for p in a.patches:\n",
    "    percentage ='{:.1f}%'.format(100*p.get_height()/totala)\n",
    "    x = p.get_x()\n",
    "    y = p.get_height()\n",
    "    a.annotate(percentage,(x,y))\n",
    "plt.show()"
   ]
  },
  {
   "cell_type": "markdown",
   "metadata": {
    "id": "T5byH6n5TaWt"
   },
   "source": [
    "##2.2 Exploratory Data Analysis\n"
   ]
  },
  {
   "cell_type": "markdown",
   "metadata": {
    "id": "WLGRMi903gam"
   },
   "source": [
    "## Total target distribution\n"
   ]
  },
  {
   "cell_type": "code",
   "execution_count": null,
   "metadata": {
    "colab": {
     "base_uri": "https://localhost:8080/",
     "height": 487
    },
    "id": "gKyPuhhQpiFE",
    "outputId": "a5f0d15f-7bf3-4ab5-ad9f-9d4348564582"
   },
   "outputs": [],
   "source": [
    "# Findning correlations between columns\n",
    "\n",
    "cor = ss_train.corr()\n",
    "plt.figure(figsize = (12,8))\n",
    "sns.heatmap(cor, annot = True)\n",
    "rel = cor['Transported'].sort_values(ascending = False)"
   ]
  },
  {
   "cell_type": "markdown",
   "metadata": {
    "id": "JLEBC4TB_V8o"
   },
   "source": [
    "The above correlation matrix shows there is not much correlation between the most of the variables. However, there is a slight relationship between room service and transported, spa and transported, and VRDeck and transported as the relationship is a negative correlation between -.2 and -.25 for these three relationships. We can explore these relationships further with scatter plots. "
   ]
  },
  {
   "cell_type": "markdown",
   "metadata": {
    "id": "4diNyt29TzRm"
   },
   "source": [
    "For PCA, formating the data"
   ]
  },
  {
   "cell_type": "code",
   "execution_count": null,
   "metadata": {
    "id": "pT0QMH6ITu1e"
   },
   "outputs": [],
   "source": [
    "## feature \n",
    "## False = 0 True = 1 \n",
    "ss_trainc = ss_train.copy()\n",
    "ss_testc = ss_test.copy()\n"
   ]
  },
  {
   "cell_type": "code",
   "execution_count": null,
   "metadata": {
    "colab": {
     "base_uri": "https://localhost:8080/",
     "height": 0
    },
    "id": "1kDIHZ_NT_-Z",
    "outputId": "fe5326a6-555d-4fcd-b50a-3a6551125aef"
   },
   "outputs": [],
   "source": [
    "ss_trainc.shape"
   ]
  },
  {
   "cell_type": "code",
   "execution_count": null,
   "metadata": {
    "colab": {
     "base_uri": "https://localhost:8080/",
     "height": 0
    },
    "id": "S_FP-STUUALL",
    "outputId": "227003a0-0486-4155-c3bf-889ac4c67cc8"
   },
   "outputs": [],
   "source": [
    "ss_train.shape"
   ]
  },
  {
   "cell_type": "code",
   "execution_count": null,
   "metadata": {
    "colab": {
     "base_uri": "https://localhost:8080/",
     "height": 0
    },
    "id": "VvqcAaNRUAXJ",
    "outputId": "c942fbec-2c8e-42e4-d5bc-1edfb37c6aab"
   },
   "outputs": [],
   "source": [
    "ss_train.dtypes"
   ]
  },
  {
   "cell_type": "code",
   "execution_count": null,
   "metadata": {
    "colab": {
     "base_uri": "https://localhost:8080/",
     "height": 0
    },
    "id": "EegNbywsT9De",
    "outputId": "a396e4f4-8459-4800-cf7e-97993014afaa"
   },
   "outputs": [],
   "source": [
    "print(ss_trainc.isna().sum())"
   ]
  },
  {
   "cell_type": "code",
   "execution_count": null,
   "metadata": {
    "id": "YwrEi9nyUHYG"
   },
   "outputs": [],
   "source": [
    "## for handling the missing values from the cateorical labels\n",
    "# Drop qualitative/redundant/high cardinality features\n",
    "ss_trainc.set_index('PassengerId')\n",
    "ss_trainc.drop([ 'Cabin', 'Name', 'Age'], axis=1, inplace=True)"
   ]
  },
  {
   "cell_type": "code",
   "execution_count": null,
   "metadata": {
    "id": "QHu1-Ra9UIuz"
   },
   "outputs": [],
   "source": [
    "ss_testc.drop(['Cabin', 'Name','Age'], axis=1, inplace=True)"
   ]
  },
  {
   "cell_type": "code",
   "execution_count": null,
   "metadata": {
    "colab": {
     "base_uri": "https://localhost:8080/",
     "height": 0
    },
    "id": "mUp6DMtCaeoc",
    "outputId": "af7a0ae0-3816-4527-bcad-56b569906f1d"
   },
   "outputs": [],
   "source": [
    "passengerId = ss_test['PassengerId']\n",
    "ss_test.set_index('PassengerId')\n",
    "passengerId"
   ]
  },
  {
   "cell_type": "code",
   "execution_count": null,
   "metadata": {
    "id": "N_H1GhTlYql9"
   },
   "outputs": [],
   "source": [
    "ss_test.drop(['Cabin', 'Name','Age'], axis=1, inplace=True)"
   ]
  },
  {
   "cell_type": "code",
   "execution_count": null,
   "metadata": {
    "colab": {
     "base_uri": "https://localhost:8080/",
     "height": 206
    },
    "id": "UpSTAeKMULe4",
    "outputId": "d497dcf0-6a51-4b89-e242-807a73ee3d21"
   },
   "outputs": [],
   "source": [
    "# Preview resulting training set\n",
    "ss_trainc.head()"
   ]
  },
  {
   "cell_type": "code",
   "execution_count": null,
   "metadata": {
    "colab": {
     "base_uri": "https://localhost:8080/",
     "height": 206
    },
    "id": "nAg6AkM3UNzg",
    "outputId": "02d5e814-2669-49a2-e2f5-e0742e86276a"
   },
   "outputs": [],
   "source": [
    "ss_testc.head()"
   ]
  },
  {
   "cell_type": "code",
   "execution_count": null,
   "metadata": {
    "id": "5_f-JRgJUOkJ"
   },
   "outputs": [],
   "source": [
    "y=ss_trainc['Transported'].copy().astype(int)\n",
    "X=ss_trainc.drop('Transported', axis=1).copy()\n",
    "X_test=ss_test.copy()"
   ]
  },
  {
   "cell_type": "code",
   "execution_count": null,
   "metadata": {
    "colab": {
     "base_uri": "https://localhost:8080/"
    },
    "id": "RSSpzzV1USUZ",
    "outputId": "40f988c0-4068-448b-831d-f6ca7762630b"
   },
   "outputs": [],
   "source": [
    "from sklearn.compose import ColumnTransformer\n",
    "from sklearn.pipeline import Pipeline\n",
    "from sklearn.preprocessing import StandardScaler, OneHotEncoder\n",
    "from sklearn.feature_selection import mutual_info_classif\n",
    "from sklearn.decomposition import PCA\n",
    "# Indentify numerical and categorical columns\n",
    "numerical_cols = [cname for cname in X.columns if X[cname].dtype in ['int64', 'float64']]\n",
    "categorical_cols = [cname for cname in X.columns if X[cname].dtype == \"object\"]\n",
    "\n",
    "# Scale numerical data to have mean=0 and variance=1\n",
    "numerical_transformer = Pipeline(steps=[('scaler', StandardScaler())])\n",
    "\n",
    "# One-hot encode categorical data\n",
    "categorical_transformer = Pipeline(steps=[('onehot', OneHotEncoder(drop='if_binary', handle_unknown='ignore',sparse=False))])\n",
    "\n",
    "# Combine preprocessing\n",
    "ct = ColumnTransformer(\n",
    "    transformers=[\n",
    "        ('num', numerical_transformer, numerical_cols),\n",
    "        ('cat', categorical_transformer, categorical_cols)],\n",
    "        remainder='passthrough')\n",
    "\n",
    "# Apply preprocessing\n",
    "X = ct.fit_transform(X)\n",
    "X_test = ct.transform(X_test)\n",
    "\n",
    "# Print new shape\n",
    "print('Training set shape:', X.shape)"
   ]
  },
  {
   "cell_type": "code",
   "execution_count": null,
   "metadata": {
    "colab": {
     "base_uri": "https://localhost:8080/",
     "height": 534
    },
    "id": "HUhOdzAuUU8D",
    "outputId": "e095839d-68b1-4bbf-a9e4-e72979adce39"
   },
   "outputs": [],
   "source": [
    "import plotly.express as px\n",
    "pca = PCA(n_components=3)\n",
    "components = pca.fit_transform(X)\n",
    "print(components.shape)\n",
    "\n",
    "total_var = pca.explained_variance_ratio_.sum() * 100\n",
    "\n",
    "fig = px.scatter_3d(\n",
    "    components, x=0, y=1, z=2, color=y, size=0.1*np.ones(len(X)), opacity = 1,\n",
    "    title=f'Total Explained Variance: {total_var:.2f}%',\n",
    "    labels={'0': 'PC 1', '1': 'PC 2', '2': 'PC 3'},\n",
    "    width=800, height=500\n",
    ")\n",
    "fig.show()"
   ]
  },
  {
   "cell_type": "markdown",
   "metadata": {
    "id": "kwqx8ZC6UYo4"
   },
   "source": [
    "The main component explains only 48.65% from original data\\\n",
    "For finding number of main Component"
   ]
  },
  {
   "cell_type": "code",
   "execution_count": null,
   "metadata": {
    "colab": {
     "base_uri": "https://localhost:8080/",
     "height": 632
    },
    "id": "xgBnbTRwUX69",
    "outputId": "c04595f3-96e6-4ff4-b7ab-889bd20afa9c"
   },
   "outputs": [],
   "source": [
    "# Explained variance (how important each additional principal component is)\n",
    "#pca = PCA().fit(X)\n",
    "fig, ax = plt.subplots(figsize=(10,4))\n",
    "xi = np.arange(1, 1+X.shape[1], step=1)\n",
    "yi = np.cumsum(pca.explained_variance_ratio_)\n",
    "plt.plot(xi, yi, marker='o', linestyle='--', color='b')\n",
    "\n",
    "# Aesthetics\n",
    "plt.ylim(0.0,1.1)\n",
    "plt.xlabel('Number of Components')\n",
    "plt.xticks(np.arange(1, 1+X.shape[1], step=2))\n",
    "plt.ylabel('Cumulative variance (%)')\n",
    "plt.title('Explained variance by each component')\n",
    "plt.axhline(y=1, color='r', linestyle='-')\n",
    "plt.text(0.5, 0.85, '100% cut-off threshold', color = 'red')\n",
    "ax.grid(axis='x')"
   ]
  },
  {
   "cell_type": "markdown",
   "metadata": {
    "id": "j_nt5N89Ugwx"
   },
   "source": [
    "Morethan 7 main component describe the most of distrbution."
   ]
  },
  {
   "cell_type": "markdown",
   "metadata": {
    "id": "KS57CwcNxSZO"
   },
   "source": [
    "## 2.3 Modeling"
   ]
  },
  {
   "cell_type": "markdown",
   "metadata": {
    "id": "HfMXXbm3xaWl"
   },
   "source": [
    "####classifier KNN, NaiveBase, Logistic Regression \n",
    "###### I just do it once, if you want we can do it in seperate for the method\n",
    "#####To briefly mention the algorithms we will use,\n",
    "\n",
    "Logistic Regression: Unlike linear regression which uses Least Squares, this model uses Maximum Likelihood Estimation to fit a sigmoid-curve on the target variable distribution. The sigmoid/logistic curve is commonly used when the data is questions had binary output.\n",
    "\n",
    "K-Nearest Neighbors (KNN): KNN works by selecting the majority class of the k-nearest neighbours, where the metric used is usually Euclidean distance. It is a simple and effective algorithm but can be sensitive by many factors, e.g. the value of k, the preprocessing done to the data and the metric used.\n",
    "\n",
    "Naive Bayes (NB): Naive Bayes learns how to classify samples by using Bayes' Theorem. It uses prior information to 'update' the probability of an event by incoorporateing this information according to Bayes' law. The algorithm is quite fast but a downside is that it assumes the input features are independent, which is not always the case."
   ]
  },
  {
   "cell_type": "code",
   "execution_count": null,
   "metadata": {
    "id": "tHbA8Cqt3Hha"
   },
   "outputs": [],
   "source": [
    "## feature (change the string to the numeric)\n",
    "from sklearn.preprocessing import StandardScaler, LabelEncoder\n",
    "la = LabelEncoder()\n",
    "for i in ss_test.columns:\n",
    "    if ss_train[i].dtype == 'object' or ss_train[i].dtype == 'bool':\n",
    "        ss_train[i] = la.fit_transform(ss_train[i])\n",
    "        ss_test[i] = la.fit_transform(ss_test[i])\n",
    "\n",
    "ss_train['Transported'] = la.fit_transform(ss_train['Transported'])"
   ]
  },
  {
   "cell_type": "code",
   "execution_count": null,
   "metadata": {
    "colab": {
     "base_uri": "https://localhost:8080/",
     "height": 357
    },
    "id": "_wOySpK6TaO5",
    "outputId": "16901591-0f2b-4b60-b22f-34f7db82fa33"
   },
   "outputs": [],
   "source": [
    "ss_train.head()"
   ]
  },
  {
   "cell_type": "code",
   "execution_count": null,
   "metadata": {
    "colab": {
     "base_uri": "https://localhost:8080/",
     "height": 206
    },
    "id": "uenY8VgATePP",
    "outputId": "bd5cc597-9e68-4fbb-d9df-96205358c7a9"
   },
   "outputs": [],
   "source": [
    "ss_test.head()"
   ]
  },
  {
   "cell_type": "code",
   "execution_count": null,
   "metadata": {
    "colab": {
     "base_uri": "https://localhost:8080/",
     "height": 562
    },
    "id": "_4HSOoxnH5MV",
    "outputId": "11ee83df-4129-4570-88db-3112398bda04"
   },
   "outputs": [],
   "source": [
    "# Findning correlations between columns\n",
    "ss_trainco = ss_train.copy()\n",
    "ss_trainco.drop('Transported', axis = 1, inplace= True)\n",
    "cor = ss_trainco.corr()\n",
    "plt.figure(figsize = (12,8))\n",
    "sns.heatmap(cor, annot = True)"
   ]
  },
  {
   "cell_type": "code",
   "execution_count": null,
   "metadata": {
    "id": "pXb0sssyTUWz"
   },
   "outputs": [],
   "source": [
    "ss_trainm = ss_train.copy()\n",
    "ss_testm = ss_test.copy()"
   ]
  },
  {
   "cell_type": "code",
   "execution_count": null,
   "metadata": {
    "id": "a7pv49GLVhBq"
   },
   "outputs": [],
   "source": [
    "from sklearn.metrics import accuracy_score\n",
    "from sklearn.model_selection import train_test_split\n",
    "from sklearn.neighbors import KNeighborsClassifier\n",
    "from sklearn.linear_model import LogisticRegression\n",
    "from sklearn.naive_bayes import GaussianNB\n",
    "from sklearn import tree\n",
    "from xgboost import XGBClassifier\n",
    "from sklearn.ensemble import RandomForestClassifier\n",
    "from lightgbm import LGBMClassifier\n",
    "from sklearn.ensemble import GradientBoostingClassifier\n",
    "from sklearn.neural_network import MLPClassifier\n",
    "#from catboost import CatBoostClassifier\n",
    "import time"
   ]
  },
  {
   "cell_type": "code",
   "execution_count": null,
   "metadata": {
    "id": "6Jkw7yQEnvr5"
   },
   "outputs": [],
   "source": [
    "features = ['HomePlanet','CryoSleep','Destination','VIP', 'RoomService', 'FoodCourt', 'ShoppingMall', 'Spa','VRDeck']\n",
    "y = ss_trainm['Transported']\n",
    "X = ss_trainm.loc[:, features]\n",
    "X_train, X_test, y_train, y_test = train_test_split(X, y, test_size=0.25, random_state=0,shuffle=True, stratify=y)\n"
   ]
  },
  {
   "cell_type": "code",
   "execution_count": null,
   "metadata": {
    "colab": {
     "base_uri": "https://localhost:8080/",
     "height": 331
    },
    "id": "1XIeDlJd1QNe",
    "outputId": "d00d368d-6421-49a4-9799-2708d7d05d0d"
   },
   "outputs": [],
   "source": [
    "Knn = KNeighborsClassifier()\n",
    "Logistic_regression = LogisticRegression(solver='lbfgs', max_iter=1000)\n",
    "Naive_bayes = GaussianNB()\n",
    "Decision_Tree = tree.DecisionTreeClassifier()\n",
    "Random_forest = RandomForestClassifier(bootstrap= False, n_estimators=529, max_depth=15, min_samples_split=5,min_samples_leaf=4,max_features='auto',verbose=0)\n",
    "XGB = XGBClassifier(gamma= 0.8151728866167003,learning_rate= 0.031628174313413464,max_depth= 7,n_estimators= 207,subsample= 0.7781385659303335)\n",
    "LGBM = LGBMClassifier(learning_rate=0.04183147620569966,max_depth= 25, min_child_samples= 117, n_estimators= 240)\n",
    "GradientBoost = GradientBoostingClassifier(n_estimators=100)\n",
    "#CatBoost = CatBoostClassifier(objective='CrossEntropy', colsample_bylevel= 0.07587945476302646, depth= 8, boosting_type= 'Ordered', bootstrap_type= 'Bernoulli', subsample= 0.737265320016441,iterations=1000,verbose=0)\n",
    "NNMLP =MLPClassifier(hidden_layer_sizes = (20,20,), activation='relu', solver='adam',max_iter=200,verbose=0)\n",
    "models = [Knn,Logistic_regression, Naive_bayes , Decision_Tree, Random_forest, XGB, LGBM, GradientBoost,NNMLP]\n",
    "accuracy =[]\n",
    "train_time =[]\n",
    "predict_time =[]\n",
    "total_time =[]\n",
    "for model in models:\n",
    "    start = time.time()\n",
    "    model.fit(X_train, y_train)\n",
    "    \n",
    "    end_train =time.time()\n",
    "    y_pred = model.predict(X_test)\n",
    "    end_predict = time.time()\n",
    "    acc_model = round(accuracy_score(y_pred, y_test) * 100, 2)\n",
    "    accuracy.append(acc_model)\n",
    "    t_time = round(end_train-start,2)\n",
    "    train_time.append(t_time)\n",
    "    p_time = round(end_predict-end_train,2)\n",
    "    predict_time.append(p_time)\n",
    "    tt_time = round(end_predict-start,2)\n",
    "    total_time.append(tt_time)\n",
    "\n",
    "\n",
    "model_name = ['KNN', 'Logistic Regression', 'Naive Bayes', 'Decision Tree', 'Random_forest', ' XGB', 'LGBM', 'GradientBoost', 'NNMLP']\n",
    "models_table = pd.DataFrame({'Model name': model_name, 'Accuracy percentage': accuracy, 'Train time' : train_time, 'Predict time': predict_time, 'Total time': total_time})\n",
    "models_table"
   ]
  },
  {
   "cell_type": "markdown",
   "metadata": {
    "id": "HmhX_q5s7uku"
   },
   "source": [
    "### K-Fold Validation"
   ]
  },
  {
   "cell_type": "code",
   "execution_count": null,
   "metadata": {
    "colab": {
     "base_uri": "https://localhost:8080/",
     "height": 331
    },
    "id": "EydAx6tM7zHk",
    "outputId": "dc18658e-69bf-4109-a808-9b16f0ec2568"
   },
   "outputs": [],
   "source": [
    "from sklearn.model_selection import cross_val_score ## for K-fold Validation\n",
    "cv_mean = []\n",
    "for model in models:\n",
    "    scores = cross_val_score(model, X, y,\n",
    "                              cv=5,\n",
    "                              scoring='accuracy')\n",
    "    cv_mean.append(scores.mean())\n",
    "\n",
    "models_validation = pd.DataFrame({'Model name': model_name, 'K-Fold validation mean scores': cv_mean})\n",
    "models_validation = models_validation.sort_values(by='K-Fold validation mean scores', ascending=False)\n",
    "models_validation\n"
   ]
  },
  {
   "cell_type": "code",
   "execution_count": null,
   "metadata": {
    "colab": {
     "base_uri": "https://localhost:8080/",
     "height": 295
    },
    "id": "Fss8gkGm-TJK",
    "outputId": "21122910-9af3-4ebf-b3e3-321a899415ae"
   },
   "outputs": [],
   "source": [
    "## pick the most accurate one\n",
    "LR = LGBMClassifier(learning_rate=0.04183147620569966,max_depth= 25, min_child_samples= 117, n_estimators= 240)\n",
    "LR.fit(X_train, y_train)\n",
    "LR_prediction = LR.predict(X)\n",
    "\n",
    "from sklearn.metrics import confusion_matrix  # For find confusion matrix\n",
    "\n",
    "# Find confusion matrix for this model:\n",
    "confusion_mat_LR = confusion_matrix(y, LR_prediction)\n",
    "confusion_mat_dataframe_LR = pd.DataFrame(confusion_mat_LR, index=[\"Transported\", \"NotTransported\"], columns=[\"Transported\", \"NotTransported\"])\n",
    "sns.heatmap(confusion_mat_dataframe_LR, annot=True, annot_kws={\"size\": 18}, fmt=\"d\")\n",
    "plt.title(\"LGBM\")\n",
    "plt.ylabel('Actual Classes')\n",
    "plt.xlabel('Predicted Classes')\n",
    "plt.show()"
   ]
  },
  {
   "cell_type": "code",
   "execution_count": null,
   "metadata": {
    "colab": {
     "base_uri": "https://localhost:8080/",
     "height": 174
    },
    "id": "PQekqvFkBtST",
    "outputId": "1f0508a2-9e36-4566-f795-2ef2f9ee3d90"
   },
   "outputs": [],
   "source": [
    "from sklearn.metrics import classification_report  # For print evaluation report\n",
    "report_LR = pd.DataFrame(classification_report(y, LR_prediction, output_dict=True, target_names=[\"Transported\", \"NotTransported\"]))\n",
    "report_LR"
   ]
  },
  {
   "cell_type": "code",
   "execution_count": null,
   "metadata": {
    "colab": {
     "base_uri": "https://localhost:8080/",
     "height": 0
    },
    "id": "dxT3lpS4S8sU",
    "outputId": "2fe6090b-808e-4980-c3e1-7e3a9c16d7c8"
   },
   "outputs": [],
   "source": [
    "best_prediction = LR_prediction\n",
    "best_prediction\n",
    "print(np.round(100*np.round(best_prediction).sum()/len(best_prediction),2), \"%\")"
   ]
  },
  {
   "cell_type": "code",
   "execution_count": null,
   "metadata": {
    "colab": {
     "base_uri": "https://localhost:8080/",
     "height": 423
    },
    "id": "n2VvIx18Z60s",
    "outputId": "f93fe2c4-8a56-425f-a310-78eb42b36830"
   },
   "outputs": [],
   "source": [
    "ss_test"
   ]
  },
  {
   "cell_type": "code",
   "execution_count": null,
   "metadata": {
    "colab": {
     "base_uri": "https://localhost:8080/",
     "height": 0
    },
    "id": "y1LpEvidcoqW",
    "outputId": "01afdde2-1997-411f-8723-46a00638ec80"
   },
   "outputs": [],
   "source": [
    "print(X_train)"
   ]
  },
  {
   "cell_type": "code",
   "execution_count": null,
   "metadata": {
    "colab": {
     "base_uri": "https://localhost:8080/",
     "height": 0
    },
    "id": "-y-oxLf3cvy0",
    "outputId": "b08de24b-7e9a-4c64-a922-5d8d06a7c2be"
   },
   "outputs": [],
   "source": [
    "#passengerId = ss_test['PassengerId']\n",
    "ss_test = ss_test.drop('PassengerId', axis = 1)\n",
    "print(ss_test)"
   ]
  },
  {
   "cell_type": "code",
   "execution_count": null,
   "metadata": {
    "colab": {
     "base_uri": "https://localhost:8080/",
     "height": 423
    },
    "id": "TNz04craVdZb",
    "outputId": "a2d6e419-ed59-4060-b037-2ebb546093a8"
   },
   "outputs": [],
   "source": [
    "LR = LGBMClassifier(learning_rate=0.04183147620569966,max_depth= 25, min_child_samples= 117, n_estimators= 240)\n",
    "Most = LR.fit(X_train, y_train)\n",
    "Most.predict(ss_test)\n",
    "pred1 = pd.DataFrame(Most.predict(ss_test))\n",
    "pred1.columns =['Transported']\n",
    "pred1['PassengerId'] = passengerId\n",
    "pred1 = pred1[['PassengerId', 'Transported']]\n",
    "for i in range(len(pred1)):\n",
    "  if pred1.iloc[i,1] == 1:\n",
    "    pred1.iloc[i,1] = 'True'\n",
    "  else:\n",
    "    pred1.iloc[i,1] = 'False'\n",
    "  #pred1.iloc[i,1] = pred1.iloc[i,1]\n",
    "pred1.to_csv(\"ss_submission.csv\", index =False)\n",
    "pred1"
   ]
  }
 ],
 "metadata": {
  "colab": {
   "collapsed_sections": [],
   "name": "B365_project.ipynb",
   "provenance": []
  },
  "kernelspec": {
   "display_name": "Python 3",
   "language": "python",
   "name": "python3"
  },
  "language_info": {
   "codemirror_mode": {
    "name": "ipython",
    "version": 3
   },
   "file_extension": ".py",
   "mimetype": "text/x-python",
   "name": "python",
   "nbconvert_exporter": "python",
   "pygments_lexer": "ipython3",
   "version": "3.8.8"
  }
 },
 "nbformat": 4,
 "nbformat_minor": 1
}
